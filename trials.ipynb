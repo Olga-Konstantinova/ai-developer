{
 "cells": [
  {
   "cell_type": "code",
   "execution_count": 38,
   "metadata": {},
   "outputs": [],
   "source": [
    "import os\n",
    "from dotenv import load_dotenv\n",
    "from langchain.document_loaders import PythonLoader\n",
    "from langchain.embeddings.openai import OpenAIEmbeddings\n",
    "from langchain.vectorstores import Pinecone\n",
    "import pinecone\n",
    "from langchain.agents import AgentType\n",
    "from langchain.chat_models import ChatOpenAI\n",
    "from langchain_experimental.tools import PythonREPLTool\n",
    "from langchain_experimental.agents.agent_toolkits import create_python_agent\n",
    "from langchain.chains import RetrievalQA\n",
    "from langchain.text_splitter import (\n",
    "    RecursiveCharacterTextSplitter,\n",
    "    Language,\n",
    ")\n",
    "\n",
    "load_dotenv()\n",
    "\n",
    "\n",
    "# initialize Vector DB\n",
    "pinecone.init(\n",
    "    api_key=os.environ.get(\"PINECONE_API_KEY\"),\n",
    "    environment=os.environ.get(\"PINECONE_ENV\"),\n",
    ")\n",
    "\n",
    "# set Index Params\n",
    "# note: dimension of the index is found from the embeddings model\n",
    "# site: https://platform.openai.com/docs/guides/embeddings/what-are-embeddings\n",
    "# model: text-embedding-ada-002\n",
    "\n",
    "index_name = \"ai-developer\"\n",
    "index_dim = 1536\n",
    "index_metric = \"euclidean\"\n",
    "\n",
    "if index_name in pinecone.list_indexes():\n",
    "    index = pinecone.Index(index_name)\n",
    "\n",
    "    # if the vectors are present in index - clean up & create a new index\n",
    "    # no better way due to free tier\n",
    "    if index.describe_index_stats()[\"total_vector_count\"] > 0:\n",
    "        pinecone.delete_index(name=index_name)\n",
    "        pinecone.create_index(name=index_name, dimension=index_dim, metric=index_metric)\n",
    "    else:\n",
    "        pass\n",
    "else:\n",
    "    # if index not present - create one\n",
    "    pinecone.create_index(name=index_name, dimension=index_dim, metric=index_metric)"
   ]
  },
  {
   "cell_type": "code",
   "execution_count": 39,
   "metadata": {},
   "outputs": [
    {
     "name": "stdout",
     "output_type": "stream",
     "text": [
      "Number of documets after the split on chunks: 9\n"
     ]
    }
   ],
   "source": [
    "# load the file\n",
    "loader = PythonLoader(\"load_py_file.py\")\n",
    "document = loader.load()\n",
    "\n",
    "# split the file (note: previously used CharacterTextSplitter but it does not take language into account)\n",
    "python_splitter = RecursiveCharacterTextSplitter.from_language(\n",
    "    language=Language.PYTHON, chunk_size=300, chunk_overlap=10\n",
    ")\n",
    "python_docs = python_splitter.split_documents(document)\n",
    "\n",
    "print(f\"Number of documets after the split on chunks: {len(python_docs)}\")\n",
    "\n",
    "# create embeddings\n",
    "embeddings = OpenAIEmbeddings(openai_api_key=os.environ.get(\"OPENAI_API_KEY\"))\n",
    "docsearch = Pinecone.from_documents(python_docs, embeddings, index_name=index_name)"
   ]
  },
  {
   "cell_type": "code",
   "execution_count": 66,
   "metadata": {},
   "outputs": [],
   "source": [
    "# define RetrievalQA model (previsouly used VectorDBQA, but got deprecated)\n",
    "qa = RetrievalQA.from_chain_type(\n",
    "    llm=ChatOpenAI(model_name=\"gpt-3.5-turbo-16k\"),\n",
    "    chain_type=\"stuff\",\n",
    "    retriever=docsearch.as_retriever(),\n",
    "    verbose=True,\n",
    "    return_source_documents=True,\n",
    ")\n",
    "\n",
    "# define the python agent\n",
    "python_agent_executor = create_python_agent(\n",
    "    llm=ChatOpenAI(temperature=0, model=\"gpt-4\"),\n",
    "    tool=PythonREPLTool(),\n",
    "    agent_type=AgentType.ZERO_SHOT_REACT_DESCRIPTION,\n",
    "    verbose=True,\n",
    "    handle_parsing_errors=True,  # retries on failed parsing at the first attempt\n",
    ")"
   ]
  },
  {
   "cell_type": "code",
   "execution_count": 72,
   "metadata": {},
   "outputs": [
    {
     "name": "stdout",
     "output_type": "stream",
     "text": [
      "\n",
      "\n",
      "\u001b[1m> Entering new RetrievalQA chain...\u001b[0m\n",
      "\n",
      "\u001b[1m> Finished chain.\u001b[0m\n"
     ]
    }
   ],
   "source": [
    "### running agents separately\n",
    "\n",
    "# define the error and the query\n",
    "error = \"TypeError: can only concatenate str (not 'list') to str\"\n",
    "query = f\"When running the code base script I get the error {error}.\\\n",
    "    Code base is in the vector database, you can look it up there.\\\n",
    "    Adjust the code to resolve this issue.\"\n",
    "\n",
    "result = qa(query)"
   ]
  },
  {
   "cell_type": "code",
   "execution_count": 73,
   "metadata": {},
   "outputs": [
    {
     "data": {
      "text/plain": [
       "{'query': \"When running the code base script I get the error TypeError: can only concatenate str (not 'list') to str.    Code base is in the vector database, you can look it up there.    Adjust the code to resolve this issue.\",\n",
       " 'result': 'To resolve the \"TypeError: can only concatenate str (not \\'list\\') to str\" issue, you need to modify the `sum_function` to handle the case where one of the inputs is a list. Here\\'s an adjusted version of the code:\\n\\n```python\\ndef sum_function(a, b):\\n    if isinstance(a, list) or isinstance(b, list):\\n        raise TypeError(\"Both inputs must be of the same type.\")\\n    return a + b\\n\\nresult = sum_function(\"a\", [\"b\", \"b\", \"b\"])\\nprint(result)\\n```\\n\\nThis code will raise an error if either `a` or `b` is a list, ensuring that the function can only concatenate strings.',\n",
       " 'source_documents': [Document(page_content='# This is a Python code snippet with an intentional error', metadata={'source': 'load_py_file.py'}),\n",
       "  Document(page_content='def sum_function(a, b):\\n    return a + b\\n\\nsum_function(\"a\", [\"b\", \"b\", \"b\"])', metadata={'source': 'load_py_file.py'}),\n",
       "  Document(page_content='return result\\n\\n\\n# numbers_list = []\\n# average_result = calculate_average(numbers_list)\\n# print(\"Average:\", average_result)', metadata={'source': 'load_py_file.py'}),\n",
       "  Document(page_content='def fibonacci_sequence(n):\\n    fib_sequence = [0, 1]\\n    while len(fib_sequence) < n:\\n        fib_sequence.append(fib_sequence[-1] + fib_sequence[-2])\\n    return fib_sequence\\n\\n# Function to perform matrix multiplication', metadata={'source': 'load_py_file.py'})]}"
      ]
     },
     "execution_count": 73,
     "metadata": {},
     "output_type": "execute_result"
    }
   ],
   "source": [
    "# view the output of running the model above\n",
    "result"
   ]
  },
  {
   "cell_type": "code",
   "execution_count": 76,
   "metadata": {},
   "outputs": [
    {
     "name": "stdout",
     "output_type": "stream",
     "text": [
      "\n",
      "\n",
      "\u001b[1m> Entering new AgentExecutor chain...\u001b[0m\n",
      "\u001b[32;1m\u001b[1;3mThe task requires me to find the document that contains the `sum_function` and replace it with the provided code snippet. After that, I need to save the updated code in a file named `solution.py` in the current working directory. \n",
      "\n",
      "To accomplish this, I will first create a list of the documents. Then, I will iterate over the documents to find the one that contains the `sum_function`. Once I find the document, I will replace the old `sum_function` with the new one provided in the instructions. Finally, I will write the updated code to a file named `solution.py`.\n",
      "\n",
      "Let's start by creating a list of the documents. \n",
      "\n",
      "Action: Python_REPL\n",
      "Action Input: \n",
      "```python\n",
      "documents = [\n",
      "    Document(page_content='# This is a Python code snippet with an intentional error', metadata={'source': 'load_py_file.py'}),\n",
      "    Document(page_content='def sum_function(a, b):\\n    return a + b\\n\\nsum_function(\"a\", [\"b\", \"b\", \"b\"])', metadata={'source': 'load_py_file.py'}),\n",
      "    Document(page_content='return result\\n\\n\\n# numbers_list = []\\n# average_result = calculate_average(numbers_list)\\n# print(\"Average:\", average_result)', metadata={'source': 'load_py_file.py'}),\n",
      "    Document(page_content='def fibonacci_sequence(n):\\n    fib_sequence = [0, 1]\\n    while len(fib_sequence) < n:\\n        fib_sequence.append(fib_sequence[-1] + fib_sequence[-2])\\n    return fib_sequence\\n\\n# Function to perform matrix multiplication', metadata={'source': 'load_py_file.py'})\n",
      "]\n",
      "```\u001b[0m\n",
      "Observation: \u001b[36;1m\u001b[1;3mNameError(\"name 'Document' is not defined\")\u001b[0m\n",
      "Thought:\u001b[32;1m\u001b[1;3mI made a mistake. The `Document` class is not defined in this context. I should have realized that the documents were provided in a text format and not as Python objects. I need to process the text to extract the Python code from the documents. \n",
      "\n",
      "Since the documents are provided in a list format, I can use regular expressions to extract the Python code from each document. I will then store the code in a list for further processing. \n",
      "\n",
      "Let's start by extracting the Python code from the documents. \n",
      "\n",
      "Action: Python_REPL\n",
      "Action Input: \n",
      "```python\n",
      "import re\n",
      "\n",
      "documents_text = [\n",
      "    \"# This is a Python code snippet with an intentional error\",\n",
      "    \"def sum_function(a, b):\\n    return a + b\\n\\nsum_function(\\\"a\\\", [\\\"b\\\", \\\"b\\\", \\\"b\\\"])\",\n",
      "    \"return result\\n\\n\\n# numbers_list = []\\n# average_result = calculate_average(numbers_list)\\n# print(\\\"Average:\\\", average_result)\",\n",
      "    \"def fibonacci_sequence(n):\\n    fib_sequence = [0, 1]\\n    while len(fib_sequence) < n:\\n        fib_sequence.append(fib_sequence[-1] + fib_sequence[-2])\\n    return fib_sequence\\n\\n# Function to perform matrix multiplication\"\n",
      "]\n",
      "\n",
      "python_code_list = [re.findall(r'```python\\n(.*?)\\n```', doc, re.DOTALL) for doc in documents_text]\n",
      "print(python_code_list)\n",
      "```\u001b[0m\n",
      "Observation: \u001b[36;1m\u001b[1;3m[[], [], [], []]\n",
      "\u001b[0m\n",
      "Thought:\u001b[32;1m\u001b[1;3mI made a mistake. The documents do not contain the '```python' and '```' markers. I should have realized that the Python code is directly provided in the documents without any markers. I need to process the documents as they are without trying to extract the code using regular expressions.\n",
      "\n",
      "Since the documents are provided in a list format, I can directly use the list for further processing.\n",
      "\n",
      "Let's start by finding the document that contains the `sum_function`.\n",
      "\n",
      "Action: Python_REPL\n",
      "Action Input: \n",
      "```python\n",
      "sum_function_document = None\n",
      "\n",
      "for doc in documents_text:\n",
      "    if 'def sum_function' in doc:\n",
      "        sum_function_document = doc\n",
      "        break\n",
      "\n",
      "print(sum_function_document)\n",
      "```\u001b[0m\n",
      "Observation: \u001b[36;1m\u001b[1;3mdef sum_function(a, b):\n",
      "    return a + b\n",
      "\n",
      "sum_function(\"a\", [\"b\", \"b\", \"b\"])\n",
      "\u001b[0m\n",
      "Thought:\u001b[32;1m\u001b[1;3mI have successfully found the document that contains the `sum_function`. Now, I need to replace the old `sum_function` with the new one provided in the instructions. \n",
      "\n",
      "To do this, I will use the `replace` function in Python. I will replace the old `sum_function` with the new one in the document.\n",
      "\n",
      "Let's replace the old `sum_function` with the new one.\n",
      "\n",
      "Action: Python_REPL\n",
      "Action Input: \n",
      "```python\n",
      "new_sum_function = \"\"\"\n",
      "def sum_function(a, b):\n",
      "    if isinstance(a, list) or isinstance(b, list):\n",
      "        raise TypeError(\"Both inputs must be of the same type.\")\n",
      "    return a + b\n",
      "\n",
      "result = sum_function(\"a\", [\"b\", \"b\", \"b\"])\n",
      "print(result)\n",
      "\"\"\"\n",
      "\n",
      "updated_document = sum_function_document.replace('def sum_function(a, b):\\n    return a + b\\n\\nsum_function(\"a\", [\"b\", \"b\", \"b\"])', new_sum_function)\n",
      "print(updated_document)\n",
      "```\u001b[0m\n",
      "Observation: \u001b[36;1m\u001b[1;3m\n",
      "def sum_function(a, b):\n",
      "    if isinstance(a, list) or isinstance(b, list):\n",
      "        raise TypeError(\"Both inputs must be of the same type.\")\n",
      "    return a + b\n",
      "\n",
      "result = sum_function(\"a\", [\"b\", \"b\", \"b\"])\n",
      "print(result)\n",
      "\n",
      "\u001b[0m\n",
      "Thought:\u001b[32;1m\u001b[1;3mI have successfully replaced the old `sum_function` with the new one in the document. Now, I need to write the updated code to a file named `solution.py` in the current working directory.\n",
      "\n",
      "To do this, I will use the `write` function in Python. I will open the file in write mode and write the updated code to the file.\n",
      "\n",
      "Let's write the updated code to the file.\n",
      "\n",
      "Action: Python_REPL\n",
      "Action Input: \n",
      "```python\n",
      "with open('solution.py', 'w') as f:\n",
      "    f.write(updated_document)\n",
      "```\u001b[0m\n",
      "Observation: \u001b[36;1m\u001b[1;3m\u001b[0m\n",
      "Thought:\u001b[32;1m\u001b[1;3mI have successfully written the updated code to the file `solution.py`. The task is now complete. \n",
      "Final Answer: The updated code has been successfully written to the file `solution.py` in the current working directory.\u001b[0m\n",
      "\n",
      "\u001b[1m> Finished chain.\u001b[0m\n"
     ]
    },
    {
     "data": {
      "text/plain": [
       "'The updated code has been successfully written to the file `solution.py` in the current working directory.'"
      ]
     },
     "execution_count": 76,
     "metadata": {},
     "output_type": "execute_result"
    }
   ],
   "source": [
    "query_python = f\"You are given these document: {result['source_documents']}.\\\n",
    "                You need to change the code for the relevant document from all documents provided given these instructions: {result['result']}.\\\n",
    "                You need to make sure to process the document and instructions from text format into the python code.\\\n",
    "                Action: Save this new processed code in current working directory, name the file solution and use expension.py\"\n",
    "python_agent_executor.run(query_python)"
   ]
  },
  {
   "attachments": {},
   "cell_type": "markdown",
   "metadata": {},
   "source": [
    "# Useful links:\n",
    "- [Python Code Split](https://python.langchain.com/docs/modules/data_connection/document_transformers/text_splitters/code_splitter)\n",
    "- [OpenAI Embeddings](https://platform.openai.com/docs/guides/embeddings/what-are-embeddings)\n",
    "- Might be interesting for tool routing for later on: [Agent & Retrieval QA](https://stackoverflow.com/questions/77178370/how-to-retrieve-source-documents-via-langchains-get-relevant-documents-method-o) \n",
    "- The {context} needs to be added to the comment though [Prompt Template & Retrieval QA](https://stackoverflow.com/questions/76554411/unable-to-pass-prompt-template-to-retrievalqa-in-langchain)"
   ]
  }
 ],
 "metadata": {
  "kernelspec": {
   "display_name": "ai-developer",
   "language": "python",
   "name": "python3"
  },
  "language_info": {
   "codemirror_mode": {
    "name": "ipython",
    "version": 3
   },
   "file_extension": ".py",
   "mimetype": "text/x-python",
   "name": "python",
   "nbconvert_exporter": "python",
   "pygments_lexer": "ipython3",
   "version": "3.11.5"
  },
  "orig_nbformat": 4
 },
 "nbformat": 4,
 "nbformat_minor": 2
}
